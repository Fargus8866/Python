{
  "nbformat": 4,
  "nbformat_minor": 0,
  "metadata": {
    "colab": {
      "provenance": [],
      "authorship_tag": "ABX9TyPrCqryRBc/b+zmjSVZjCbj",
      "include_colab_link": true
    },
    "kernelspec": {
      "name": "python3",
      "display_name": "Python 3"
    },
    "language_info": {
      "name": "python"
    }
  },
  "cells": [
    {
      "cell_type": "markdown",
      "metadata": {
        "id": "view-in-github",
        "colab_type": "text"
      },
      "source": [
        "<a href=\"https://colab.research.google.com/github/Fargus8866/Python/blob/pandas/Lug'atdan_seris_.ipynb\" target=\"_parent\"><img src=\"https://colab.research.google.com/assets/colab-badge.svg\" alt=\"Open In Colab\"/></a>"
      ]
    },
    {
      "cell_type": "code",
      "execution_count": 1,
      "metadata": {
        "id": "hWdMqgGMGgw3"
      },
      "outputs": [],
      "source": [
        "import numpy as np\n",
        "import pandas as pd"
      ]
    },
    {
      "cell_type": "code",
      "source": [
        "dic={\n",
        "    'anvar':'iphone',\n",
        "    'doston':'samsung',\n",
        "    'sherzod':'tecno',\n",
        "    'diyor':'redmi'\n",
        "}\n",
        "dic"
      ],
      "metadata": {
        "colab": {
          "base_uri": "https://localhost:8080/"
        },
        "id": "mkdRfypZJUBO",
        "outputId": "f98218ea-1fae-4206-e4e9-501c09844279"
      },
      "execution_count": 4,
      "outputs": [
        {
          "output_type": "execute_result",
          "data": {
            "text/plain": [
              "{'anvar': 'iphone', 'doston': 'samsung', 'sherzod': 'tecno', 'diyor': 'redmi'}"
            ]
          },
          "metadata": {},
          "execution_count": 4
        }
      ]
    },
    {
      "cell_type": "code",
      "source": [
        "tel=pd.Series(dic)\n",
        "tel"
      ],
      "metadata": {
        "colab": {
          "base_uri": "https://localhost:8080/"
        },
        "id": "sQxZVN5PJoB-",
        "outputId": "e427612f-d916-46ab-ae4e-573e2135b02f"
      },
      "execution_count": 5,
      "outputs": [
        {
          "output_type": "execute_result",
          "data": {
            "text/plain": [
              "anvar       iphone\n",
              "doston     samsung\n",
              "sherzod      tecno\n",
              "diyor        redmi\n",
              "dtype: object"
            ]
          },
          "metadata": {},
          "execution_count": 5
        }
      ]
    },
    {
      "cell_type": "code",
      "source": [
        "ismlar=dic.keys()\n",
        "tel1=pd.Series(dic,index=sorted(ismlar))\n",
        "tel1"
      ],
      "metadata": {
        "colab": {
          "base_uri": "https://localhost:8080/"
        },
        "id": "dmxMng7fKkyo",
        "outputId": "781489dc-4df2-465b-9b9d-251a1d998a9b"
      },
      "execution_count": 16,
      "outputs": [
        {
          "output_type": "execute_result",
          "data": {
            "text/plain": [
              "anvar       iphone\n",
              "diyor        redmi\n",
              "doston     samsung\n",
              "sherzod      tecno\n",
              "dtype: object"
            ]
          },
          "metadata": {},
          "execution_count": 16
        }
      ]
    },
    {
      "cell_type": "code",
      "source": [
        "type(tel1)"
      ],
      "metadata": {
        "colab": {
          "base_uri": "https://localhost:8080/"
        },
        "id": "IZPKdkfGK4uW",
        "outputId": "f687224c-7529-49fa-b7fd-e502950974cc"
      },
      "execution_count": 17,
      "outputs": [
        {
          "output_type": "execute_result",
          "data": {
            "text/plain": [
              "pandas.core.series.Series"
            ]
          },
          "metadata": {},
          "execution_count": 17
        }
      ]
    },
    {
      "cell_type": "code",
      "source": [],
      "metadata": {
        "id": "aDqQnmpGMEr9"
      },
      "execution_count": null,
      "outputs": []
    }
  ]
}