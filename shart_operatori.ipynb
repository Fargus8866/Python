{
  "nbformat": 4,
  "nbformat_minor": 0,
  "metadata": {
    "colab": {
      "provenance": [],
      "authorship_tag": "ABX9TyPGfdxZQTRSEMFFFccRasiK",
      "include_colab_link": true
    },
    "kernelspec": {
      "name": "python3",
      "display_name": "Python 3"
    },
    "language_info": {
      "name": "python"
    }
  },
  "cells": [
    {
      "cell_type": "markdown",
      "metadata": {
        "id": "view-in-github",
        "colab_type": "text"
      },
      "source": [
        "<a href=\"https://colab.research.google.com/github/Fargus8866/Python/blob/main/shart_operatori.ipynb\" target=\"_parent\"><img src=\"https://colab.research.google.com/assets/colab-badge.svg\" alt=\"Open In Colab\"/></a>"
      ]
    },
    {
      "cell_type": "code",
      "execution_count": 6,
      "metadata": {
        "id": "wagr3vTPhmab",
        "outputId": "475d6ef7-4875-415b-ef32-4cc3cbf1e8ad",
        "colab": {
          "base_uri": "https://localhost:8080/"
        }
      },
      "outputs": [
        {
          "output_type": "stream",
          "name": "stdout",
          "text": [
            "[[51 42 90]\n",
            " [ 6 60 57]\n",
            " [48 13 83]\n",
            " [42 47 97]\n",
            " [47 25 72]]\n",
            "[[51 42 90]\n",
            " [ 6 60 57]]\n"
          ]
        }
      ],
      "source": [
        "import numpy as np\n",
        "import random\n",
        "arr=np.random.randint(1,100,size=(5,3))\n"
      ]
    },
    {
      "cell_type": "code",
      "source": [
        "arr1=np.array(['doston','Sherzod','hamro','Diyor'])\n",
        "for i in arr1:\n",
        "  if i.title()==i:\n",
        "    print(i)\n",
        "  else:\n",
        "    print(i.title())\n"
      ],
      "metadata": {
        "id": "czegLRN5PCyv",
        "outputId": "addca8fb-2db5-44ef-cdc8-f8b69a1347a9",
        "colab": {
          "base_uri": "https://localhost:8080/"
        }
      },
      "execution_count": 15,
      "outputs": [
        {
          "output_type": "stream",
          "name": "stdout",
          "text": [
            "Doston\n",
            "Sherzod\n",
            "Hamro\n",
            "Diyor\n"
          ]
        }
      ]
    },
    {
      "cell_type": "code",
      "source": [
        "arr2=np.random.randn(4,5)\n",
        "arr2"
      ],
      "metadata": {
        "id": "1pgaciVXRfxL",
        "outputId": "6d8e5d33-7acc-42d8-e94f-5f54f3c493ce",
        "colab": {
          "base_uri": "https://localhost:8080/"
        }
      },
      "execution_count": 16,
      "outputs": [
        {
          "output_type": "execute_result",
          "data": {
            "text/plain": [
              "array([[ 1.18457342,  0.90440816, -0.25214628, -0.9056688 ,  0.18348602],\n",
              "       [ 1.65642214, -0.28839792, -0.67915108,  1.40762595,  1.10703902],\n",
              "       [-1.52375686, -0.64483803,  1.55009903, -1.02265849, -0.13174959],\n",
              "       [ 0.07038193, -0.55357936, -0.56330372,  1.59867909, -0.10198034]])"
            ]
          },
          "metadata": {},
          "execution_count": 16
        }
      ]
    },
    {
      "cell_type": "code",
      "source": [
        "res=np.where(arr2<0,arr2+1,arr2-1)\n",
        "res"
      ],
      "metadata": {
        "id": "CyxsyfR8TL_8",
        "outputId": "564ed614-4c40-484c-c03f-0aa8135afa25",
        "colab": {
          "base_uri": "https://localhost:8080/"
        }
      },
      "execution_count": 17,
      "outputs": [
        {
          "output_type": "execute_result",
          "data": {
            "text/plain": [
              "array([[ 0.18457342, -0.09559184,  0.74785372,  0.0943312 , -0.81651398],\n",
              "       [ 0.65642214,  0.71160208,  0.32084892,  0.40762595,  0.10703902],\n",
              "       [-0.52375686,  0.35516197,  0.55009903, -0.02265849,  0.86825041],\n",
              "       [-0.92961807,  0.44642064,  0.43669628,  0.59867909,  0.89801966]])"
            ]
          },
          "metadata": {},
          "execution_count": 17
        }
      ]
    },
    {
      "cell_type": "code",
      "source": [],
      "metadata": {
        "id": "TfPEnYrHTU5I"
      },
      "execution_count": null,
      "outputs": []
    }
  ]
}