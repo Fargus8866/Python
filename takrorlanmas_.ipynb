{
  "nbformat": 4,
  "nbformat_minor": 0,
  "metadata": {
    "colab": {
      "provenance": [],
      "authorship_tag": "ABX9TyNBQ1UWAKqmV5/GPq9lechk",
      "include_colab_link": true
    },
    "kernelspec": {
      "name": "python3",
      "display_name": "Python 3"
    },
    "language_info": {
      "name": "python"
    }
  },
  "cells": [
    {
      "cell_type": "markdown",
      "metadata": {
        "id": "view-in-github",
        "colab_type": "text"
      },
      "source": [
        "<a href=\"https://colab.research.google.com/github/Fargus8866/Python/blob/main/takrorlanmas_.ipynb\" target=\"_parent\"><img src=\"https://colab.research.google.com/assets/colab-badge.svg\" alt=\"Open In Colab\"/></a>"
      ]
    },
    {
      "cell_type": "code",
      "execution_count": 1,
      "metadata": {
        "id": "OfBQkCkogg-Y"
      },
      "outputs": [],
      "source": [
        "import numpy as np\n",
        "import random"
      ]
    },
    {
      "cell_type": "code",
      "source": [
        "names = np.array(['Sarvar', 'Abdurahmon', 'Hasan',  'Temur', 'Sarvar', 'Temur'])\n",
        "ints = np.array([3, 3, 3, 2, 2, 1, 1, 4, 4])"
      ],
      "metadata": {
        "id": "6_UM8Pkjgur6"
      },
      "execution_count": 2,
      "outputs": []
    },
    {
      "cell_type": "code",
      "source": [
        "np.unique(names)"
      ],
      "metadata": {
        "colab": {
          "base_uri": "https://localhost:8080/"
        },
        "id": "xwVE90o9h5ga",
        "outputId": "241bb4ce-baf9-47cd-c551-aba210cf8f99"
      },
      "execution_count": 3,
      "outputs": [
        {
          "output_type": "execute_result",
          "data": {
            "text/plain": [
              "array(['Abdurahmon', 'Hasan', 'Sarvar', 'Temur'], dtype='<U10')"
            ]
          },
          "metadata": {},
          "execution_count": 3
        }
      ]
    },
    {
      "cell_type": "code",
      "source": [
        "set(names)"
      ],
      "metadata": {
        "colab": {
          "base_uri": "https://localhost:8080/"
        },
        "id": "3Yw50t8bh-TZ",
        "outputId": "e50f46b0-1f22-4b88-8954-aa39b3fd4f93"
      },
      "execution_count": 4,
      "outputs": [
        {
          "output_type": "execute_result",
          "data": {
            "text/plain": [
              "{'Abdurahmon', 'Hasan', 'Sarvar', 'Temur'}"
            ]
          },
          "metadata": {},
          "execution_count": 4
        }
      ]
    },
    {
      "cell_type": "code",
      "source": [
        "set(ints)"
      ],
      "metadata": {
        "colab": {
          "base_uri": "https://localhost:8080/"
        },
        "id": "Pcy3U1X6iIwd",
        "outputId": "6b686e95-51cb-4dd0-f494-ff226e173dbd"
      },
      "execution_count": 5,
      "outputs": [
        {
          "output_type": "execute_result",
          "data": {
            "text/plain": [
              "{1, 2, 3, 4}"
            ]
          },
          "metadata": {},
          "execution_count": 5
        }
      ]
    },
    {
      "cell_type": "code",
      "source": [
        "np.unique(ints)"
      ],
      "metadata": {
        "colab": {
          "base_uri": "https://localhost:8080/"
        },
        "id": "XNKWfkLHiKqe",
        "outputId": "74aeba27-e1a6-4a35-ebba-7110f62bcb9b"
      },
      "execution_count": 6,
      "outputs": [
        {
          "output_type": "execute_result",
          "data": {
            "text/plain": [
              "array([1, 2, 3, 4])"
            ]
          },
          "metadata": {},
          "execution_count": 6
        }
      ]
    },
    {
      "cell_type": "code",
      "source": [
        "arr1=np.random.randint(1,100,size=10)\n",
        "arr2=np.random.randint(1,100,size=5)"
      ],
      "metadata": {
        "id": "_KW2javtiOGI"
      },
      "execution_count": 7,
      "outputs": []
    },
    {
      "cell_type": "code",
      "source": [
        "np.in1d(arr1,arr2)"
      ],
      "metadata": {
        "colab": {
          "base_uri": "https://localhost:8080/"
        },
        "id": "wqU1VgfgivBp",
        "outputId": "20dc66a0-91d7-47f6-895a-f045db9e2305"
      },
      "execution_count": 9,
      "outputs": [
        {
          "output_type": "execute_result",
          "data": {
            "text/plain": [
              "array([False, False, False, False, False,  True, False, False, False,\n",
              "       False])"
            ]
          },
          "metadata": {},
          "execution_count": 9
        }
      ]
    },
    {
      "cell_type": "code",
      "source": [
        "names1=np.array(['shix','diyor','hamro','munis'])\n",
        "names2=np.array(['shix','doston','muxiddin'])\n"
      ],
      "metadata": {
        "id": "n_3WaIJCi2ih"
      },
      "execution_count": 10,
      "outputs": []
    },
    {
      "cell_type": "code",
      "source": [
        "np.setdiff1d(names1,names2)"
      ],
      "metadata": {
        "colab": {
          "base_uri": "https://localhost:8080/"
        },
        "id": "xSZX3KnYjkUc",
        "outputId": "d78e9b3d-b357-429a-f98a-467cb6e28e31"
      },
      "execution_count": 11,
      "outputs": [
        {
          "output_type": "execute_result",
          "data": {
            "text/plain": [
              "array(['diyor', 'hamro', 'munis'], dtype='<U5')"
            ]
          },
          "metadata": {},
          "execution_count": 11
        }
      ]
    },
    {
      "cell_type": "code",
      "source": [],
      "metadata": {
        "id": "O-Q86lDnjo3t"
      },
      "execution_count": null,
      "outputs": []
    }
  ]
}