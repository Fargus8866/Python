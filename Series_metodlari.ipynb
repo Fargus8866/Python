{
  "nbformat": 4,
  "nbformat_minor": 0,
  "metadata": {
    "colab": {
      "provenance": [],
      "authorship_tag": "ABX9TyMDOWLLwIl/86aLYQcedC1z",
      "include_colab_link": true
    },
    "kernelspec": {
      "name": "python3",
      "display_name": "Python 3"
    },
    "language_info": {
      "name": "python"
    }
  },
  "cells": [
    {
      "cell_type": "markdown",
      "metadata": {
        "id": "view-in-github",
        "colab_type": "text"
      },
      "source": [
        "<a href=\"https://colab.research.google.com/github/Fargus8866/Python/blob/pandas/Series_metodlari.ipynb\" target=\"_parent\"><img src=\"https://colab.research.google.com/assets/colab-badge.svg\" alt=\"Open In Colab\"/></a>"
      ]
    },
    {
      "cell_type": "code",
      "execution_count": 1,
      "metadata": {
        "id": "8SQRvhwBMS-O"
      },
      "outputs": [],
      "source": [
        "import numpy as np\n",
        "import pandas as pd"
      ]
    },
    {
      "cell_type": "code",
      "source": [
        "dic={\n",
        "    'doston':'samsung',\n",
        "    'azamat':'samsung',\n",
        "    'azimbek':'iphone',\n",
        "    'sherzod':'tecno',\n",
        "    'kamron':'redmi',\n",
        "    'diyor':'redmi',\n",
        "    'sardor':'nokia'\n",
        "}\n",
        "ismlar=sorted(dic.keys())\n",
        "tel=dic.values()\n",
        "tel=list(tel)\n"
      ],
      "metadata": {
        "id": "LJFxoC4oM7rC"
      },
      "execution_count": 11,
      "outputs": []
    },
    {
      "cell_type": "code",
      "source": [
        "type(tel)"
      ],
      "metadata": {
        "colab": {
          "base_uri": "https://localhost:8080/"
        },
        "id": "mvf9g3YP_YjV",
        "outputId": "d068d3cc-2a9b-4a8d-b5eb-a4b324b89b80"
      },
      "execution_count": 12,
      "outputs": [
        {
          "output_type": "execute_result",
          "data": {
            "text/plain": [
              "list"
            ]
          },
          "metadata": {},
          "execution_count": 12
        }
      ]
    },
    {
      "cell_type": "code",
      "source": [
        "type(ismlar)"
      ],
      "metadata": {
        "colab": {
          "base_uri": "https://localhost:8080/"
        },
        "id": "sOnh6eZY_6RQ",
        "outputId": "da77fa25-6554-4843-d5ac-6d54974e485a"
      },
      "execution_count": 13,
      "outputs": [
        {
          "output_type": "execute_result",
          "data": {
            "text/plain": [
              "list"
            ]
          },
          "metadata": {},
          "execution_count": 13
        }
      ]
    },
    {
      "cell_type": "code",
      "source": [
        "x=pd.Series(dic,index=ismlar)"
      ],
      "metadata": {
        "id": "sDPrfiI9AOAm"
      },
      "execution_count": 24,
      "outputs": []
    },
    {
      "cell_type": "code",
      "source": [
        "x.index"
      ],
      "metadata": {
        "colab": {
          "base_uri": "https://localhost:8080/"
        },
        "id": "XCmmcDnMAkE2",
        "outputId": "103ce3fe-6dd8-44c6-c789-719058af7205"
      },
      "execution_count": 31,
      "outputs": [
        {
          "output_type": "execute_result",
          "data": {
            "text/plain": [
              "Index(['azamat', 'azimbek', 'diyor', 'doston', 'kamron', 'sardor', 'sherzod'], dtype='object')"
            ]
          },
          "metadata": {},
          "execution_count": 31
        }
      ]
    },
    {
      "cell_type": "code",
      "source": [],
      "metadata": {
        "colab": {
          "base_uri": "https://localhost:8080/"
        },
        "id": "rxZeEINGBY3P",
        "outputId": "2a4124ce-4712-4e58-bc0c-f87d7f707680"
      },
      "execution_count": 32,
      "outputs": [
        {
          "output_type": "execute_result",
          "data": {
            "text/plain": [
              "array(['samsung', 'iphone', 'redmi', 'samsung', 'redmi', 'nokia', 'tecno'],\n",
              "      dtype=object)"
            ]
          },
          "metadata": {},
          "execution_count": 32
        }
      ]
    },
    {
      "cell_type": "code",
      "source": [],
      "metadata": {
        "id": "GzYqWh8gBq9j"
      },
      "execution_count": null,
      "outputs": []
    }
  ]
}